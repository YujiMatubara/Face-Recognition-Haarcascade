{
 "cells": [
  {
   "cell_type": "markdown",
   "metadata": {},
   "source": [
    "# Face Recognition Test"
   ]
  },
  {
   "cell_type": "markdown",
   "metadata": {},
   "source": [
    "## 1. Importar as Bibliotecas"
   ]
  },
  {
   "cell_type": "markdown",
   "metadata": {},
   "source": [
    "### 1.1. Instalação\n",
    "Caso não as possua basta intalar pelo pip:"
   ]
  },
  {
   "cell_type": "code",
   "execution_count": 44,
   "metadata": {},
   "outputs": [],
   "source": [
    "#%pip install opencv-python imgbeddings psycopg2-binary"
   ]
  },
  {
   "cell_type": "markdown",
   "metadata": {},
   "source": [
    "### 1.2. Importando"
   ]
  },
  {
   "cell_type": "code",
   "execution_count": 45,
   "metadata": {},
   "outputs": [],
   "source": [
    "import cv2  #biblioteca opencv-python\n",
    "from imgbeddings import imgbeddings\n",
    "import psycopg2 #biblioteca psycopg2-binary"
   ]
  },
  {
   "cell_type": "markdown",
   "metadata": {},
   "source": [
    "### 1.3. Importando bibliotecas padrões"
   ]
  },
  {
   "cell_type": "code",
   "execution_count": 46,
   "metadata": {},
   "outputs": [],
   "source": [
    "import numpy as np\n",
    "import os\n",
    "from PIL import Image"
   ]
  },
  {
   "cell_type": "markdown",
   "metadata": {},
   "source": [
    "## 2. Algoritmo de Reconhecimento "
   ]
  },
  {
   "cell_type": "markdown",
   "metadata": {},
   "source": [
    "### 2.1. Aquisição do Haarcascade\n",
    "Basta baixá-la pelo link: https://github.com/kipr/opencv/blob/master/data/haarcascades/haarcascade_frontalface_default.xml <br>\n",
    "Depois de baixar, coloque no mesmo repositório desse código. <br>\n",
    "Também será necessário criar uma pasta chamada stored-faces para armazenar cada imagem de face."
   ]
  },
  {
   "cell_type": "code",
   "execution_count": 66,
   "metadata": {},
   "outputs": [
    {
     "name": "stdout",
     "output_type": "stream",
     "text": [
      "eae\n"
     ]
    }
   ],
   "source": [
    "haar_cascade = cv2.CascadeClassifier(\"haarcascade_frontalface_default.xml\") #carregando o algoritmo no OpenCV\n",
    "file_name = \"test-image.jpeg\"    #carregar a imagem para fazer o teste do algoritmo\n",
    "img = cv2.imread(file_name, 0)  #lendo imagem com OpenCV\n",
    "gray_img = cv2.cvtColor(img, cv2.COLOR_RGB2BGR) #transformar a imagem monocromática(preto e branco)\n",
    "\n",
    "faces = haar_cascade.detectMultiScale(  #detectando faces\n",
    "    gray_img, scaleFactor=1.05, minNeighbors=2, minSize=(100, 100)  #argumentos podem ser alterados aqui, preciso estudar melhor eles\n",
    ")\n",
    "\n",
    "i = 0   #iterador para cade face\n",
    "for x, y, w, h in faces:\n",
    "    cropped_image = img[y : y + h, x : x + w]   #cortar a imagem para cada face\n",
    "    target_file_name = 'stored-faces/' + str(i) + '.jpg'    #salvar foto de face, uma a uma\n",
    "    cv2.imwrite(\n",
    "        target_file_name,\n",
    "        cropped_image,\n",
    "    )\n",
    "    i = i + 1"
   ]
  },
  {
   "cell_type": "markdown",
   "metadata": {},
   "source": [
    "## 3. Criando Embeddings"
   ]
  },
  {
   "cell_type": "markdown",
   "metadata": {},
   "source": [
    "### 3.1. Criando uma conta aiven\n",
    "Criaremos uma conta para conectar no aiven para conectar ao postgree, se preferir pode fazer no seu pc. <br>\n",
    "Site: https://console.aiven.io/ <br>\n",
    "Crie um projeto com o postgree, depois vá em quick connect e copie o comando psql para rodar no seu terminal(deve esperar até o servidor concluir o building). <br>\n",
    "Caso não possua, instale o postgree client:"
   ]
  },
  {
   "cell_type": "code",
   "execution_count": 48,
   "metadata": {},
   "outputs": [],
   "source": [
    "#%sudo apt-get install postgresql-client"
   ]
  },
  {
   "cell_type": "markdown",
   "metadata": {},
   "source": [
    "###  3.2. Criando Vetor e Tabela no Servidor"
   ]
  },
  {
   "cell_type": "markdown",
   "metadata": {},
   "source": [
    "Ao acessar seu postgree crie as seguintes estruturas: <br>\n",
    "CREATE EXTENSION vector; <br>\n",
    "CREATE TABLE pictures(picture text PRIMARY KEY, embedding vector(768));"
   ]
  },
  {
   "cell_type": "markdown",
   "metadata": {},
   "source": [
    "Criadas as tabelas no servidor, vamos conectar nosso programa ao servidor, para isso copie o \"SERVICE URI\" no aiven"
   ]
  },
  {
   "cell_type": "markdown",
   "metadata": {},
   "source": [
    "### 3.3. Enviando embeddings ao Servidor"
   ]
  },
  {
   "cell_type": "code",
   "execution_count": 50,
   "metadata": {},
   "outputs": [
    {
     "name": "stdout",
     "output_type": "stream",
     "text": [
      "0.jpg\n",
      "2.jpg\n",
      "3.jpg\n",
      "1.jpg\n"
     ]
    }
   ],
   "source": [
    "#substitua pela sua conexão aqui\n",
    "conn = psycopg2.connect(\"\")    #conectando ao servidor\n",
    "\n",
    "for filename in os.listdir(\"stored-faces\"):\n",
    "    img = Image.open(\"stored-faces/\" + filename)    #carregar cada face na pasta\n",
    "    ibed = imgbeddings()    #carregar o imgbeddings\n",
    "    embedding = ibed.to_embeddings(img) #calcular os embeddings de cada foto\n",
    "    cur = conn.cursor()\n",
    "    #cur.execute(\"INSERT INTO pictures values (%s,%s)\", (filename, embedding[0].tolist()))   #salvar os calculos dos embeddings no servidor postgree\n",
    "    print(filename)\n",
    "conn.commit()"
   ]
  },
  {
   "cell_type": "markdown",
   "metadata": {},
   "source": [
    "## 4. Calculando Embedding para Foto Nova"
   ]
  },
  {
   "cell_type": "code",
   "execution_count": 51,
   "metadata": {},
   "outputs": [],
   "source": [
    "file_name = \"solo-image.jpeg\"  #imagem nova para testar se é a mesma pessoa\n",
    "img = Image.open(file_name)\n",
    "ibed = imgbeddings()\n",
    "embedding = ibed.to_embeddings(img)"
   ]
  },
  {
   "cell_type": "markdown",
   "metadata": {},
   "source": [
    "## 5. Procurando Similaridades entre o Postgresql e a Nova Foto"
   ]
  },
  {
   "cell_type": "code",
   "execution_count": null,
   "metadata": {},
   "outputs": [],
   "source": [
    "from IPython.display import Image, display\n",
    "\n",
    "cur = conn.cursor()\n",
    "string_representation = \"[\"+ \",\".join(str(x) for x in embedding[0].tolist()) +\"]\"\n",
    "cur.execute(\"SELECT * FROM pictures ORDER BY embedding <-> %s LIMIT 1;\", (string_representation,))\n",
    "rows = cur.fetchall()\n",
    "for row in rows:\n",
    "    display(Image(filename=\"stored-faces/\"+row[0]))\n",
    "cur.close()"
   ]
  }
 ],
 "metadata": {
  "kernelspec": {
   "display_name": "Python 3",
   "language": "python",
   "name": "python3"
  },
  "language_info": {
   "codemirror_mode": {
    "name": "ipython",
    "version": 3
   },
   "file_extension": ".py",
   "mimetype": "text/x-python",
   "name": "python",
   "nbconvert_exporter": "python",
   "pygments_lexer": "ipython3",
   "version": "3.10.12"
  }
 },
 "nbformat": 4,
 "nbformat_minor": 2
}
